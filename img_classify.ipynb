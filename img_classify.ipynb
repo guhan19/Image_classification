{
 "cells": [
  {
   "cell_type": "markdown",
   "id": "9c55b83d",
   "metadata": {},
   "source": [
    "import numpy as np\n",
    "from tensorflow.keras.models import sequential\n",
    "from tensorflow.keras.layers import Conv2D,Maxpooling2D,Dense,Flatten"
   ]
  },
  {
   "cell_type": "markdown",
   "id": "d3a3beb6",
   "metadata": {},
   "source": [
    "LOAD database\n"
   ]
  },
  {
   "cell_type": "code",
   "execution_count": null,
   "id": "8d4d4a2b",
   "metadata": {},
   "outputs": [],
   "source": [
    "x_train=np.loadtxt('input.csv',delimiter=',')\n",
    "y_train=np.loadtxt('labels.csv',delimiter=',')"
   ]
  }
 ],
 "metadata": {
  "kernelspec": {
   "display_name": "Python 3 (ipykernel)",
   "language": "python",
   "name": "python3"
  },
  "language_info": {
   "codemirror_mode": {
    "name": "ipython",
    "version": 3
   },
   "file_extension": ".py",
   "mimetype": "text/x-python",
   "name": "python",
   "nbconvert_exporter": "python",
   "pygments_lexer": "ipython3",
   "version": "3.9.7"
  }
 },
 "nbformat": 4,
 "nbformat_minor": 5
}
