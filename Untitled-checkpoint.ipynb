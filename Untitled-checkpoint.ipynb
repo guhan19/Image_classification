{
 "cells": [
  {
   "cell_type": "code",
   "execution_count": 7,
   "id": "1e83299c",
   "metadata": {},
   "outputs": [],
   "source": [
    "try:\n",
    "    import numpy as np\n",
    "    import random\n",
    "    import matplotlib.pyplot as plt\n",
    "    import tensorflow as tf\n",
    "    from tensorflow.keras.models import Sequential\n",
    "    from tensorflow.keras.layers import Dense, LSTM, Dropout, GRU, Bidirectional\n",
    "    from tensorflow.keras.optimizers import SGD\n",
    "except:\n",
    "    !pip install keras\n",
    "    !pip install h5py==3.1.0 numpy==1.19.2 six==1.15.0 typing-extensions==3.7.4 wrapt==1.12.1 botocore==1.20.106 gast==0.4.0 tensorboard==2.6 tensorflow-estimator==2.6 absl-py==0.9 protobuf==3.11.2 scikit-learn==0.24 fsspec==2021.07.0 google-api-python-client==1.12.1\n",
    "    !pip install --upgrade tensorflow\n",
    "    !pip install --ignore-installed --upgrade tensorflow-gpu==1.15.0\n",
    "    import tensorflow as tf\n",
    "    from tensorflow.keras.models import Sequential\n",
    "    from tensorflow.keras.layers import Dense, LSTM, Dropout, GRU, Bidirectional\n",
    "    from tensorflow.keras.optimizers import SGD"
   ]
  },
  {
   "cell_type": "code",
   "execution_count": 8,
   "id": "7452facd",
   "metadata": {},
   "outputs": [],
   "source": [
    "X_train=np.loadtxt('input.csv',delimiter=',')\n",
    "Y_train=np.loadtxt('labels.csv',delimiter=',')\n",
    "\n",
    "X_test=np.loadtxt('input_test.csv',delimiter=',')\n",
    "Y_test=np.loadtxt('labels_test.csv',delimiter=',')\n"
   ]
  },
  {
   "cell_type": "code",
   "execution_count": 9,
   "id": "d30671be",
   "metadata": {},
   "outputs": [],
   "source": [
    "X_train=X_train.reshape(len(X_train),100,100,3)\n",
    "Y_train=Y_train.reshape(len(Y_train),1)\n",
    "\n",
    "X_test=X_test.reshape(len(X_test),100,100,3)\n",
    "Y_test=Y_test.reshape(len(Y_test),1)\n",
    "\n",
    "X_train=X_train/255.0\n",
    "X_test=X_test/255.0"
   ]
  },
  {
   "cell_type": "code",
   "execution_count": 10,
   "id": "f9287968",
   "metadata": {},
   "outputs": [
    {
     "name": "stdout",
     "output_type": "stream",
     "text": [
      "Shape of X_train (2000, 100, 100, 3)\n",
      "Shape of Y_train (2000, 1)\n",
      "Shape of X_test (400, 100, 100, 3)\n",
      "Shape of Y_test (400, 1)\n"
     ]
    }
   ],
   "source": [
    "print(\"Shape of X_train\",X_train.shape)\n",
    "print(\"Shape of Y_train\",Y_train.shape)\n",
    "print(\"Shape of X_test\",X_test.shape)\n",
    "print(\"Shape of Y_test\",Y_test.shape)"
   ]
  },
  {
   "cell_type": "code",
   "execution_count": 12,
   "id": "f6f03043",
   "metadata": {},
   "outputs": [
    {
     "data": {
      "text/plain": [
       "array([[[131., 128., 135.],\n",
       "        [160., 157., 164.],\n",
       "        [198., 192., 204.],\n",
       "        ...,\n",
       "        [250., 249., 247.],\n",
       "        [255., 255., 253.],\n",
       "        [250., 249., 245.]],\n",
       "\n",
       "       [[140., 137., 144.],\n",
       "        [127., 124., 131.],\n",
       "        [120., 114., 124.],\n",
       "        ...,\n",
       "        [251., 253., 252.],\n",
       "        [254., 255., 253.],\n",
       "        [254., 255., 251.]],\n",
       "\n",
       "       [[204., 202., 207.],\n",
       "        [187., 185., 190.],\n",
       "        [147., 142., 148.],\n",
       "        ...,\n",
       "        [249., 255., 255.],\n",
       "        [238., 247., 242.],\n",
       "        [232., 241., 236.]],\n",
       "\n",
       "       ...,\n",
       "\n",
       "       [[174., 182., 195.],\n",
       "        [172., 180., 193.],\n",
       "        [178., 186., 197.],\n",
       "        ...,\n",
       "        [ 87., 114.,  97.],\n",
       "        [ 75.,  99.,  83.],\n",
       "        [ 80., 105.,  86.]],\n",
       "\n",
       "       [[166., 173., 189.],\n",
       "        [164., 172., 185.],\n",
       "        [172., 180., 193.],\n",
       "        ...,\n",
       "        [ 78., 106.,  84.],\n",
       "        [ 72.,  97.,  76.],\n",
       "        [ 77., 102.,  81.]],\n",
       "\n",
       "       [[173., 180., 196.],\n",
       "        [172., 179., 195.],\n",
       "        [174., 182., 195.],\n",
       "        ...,\n",
       "        [ 63.,  91.,  69.],\n",
       "        [ 62.,  87.,  65.],\n",
       "        [ 71.,  96.,  74.]]])"
      ]
     },
     "execution_count": 12,
     "metadata": {},
     "output_type": "execute_result"
    }
   ],
   "source": [
    "X_train[1,:]"
   ]
  },
  {
   "cell_type": "code",
   "execution_count": null,
   "id": "cd27d3de",
   "metadata": {},
   "outputs": [],
   "source": []
  }
 ],
 "metadata": {
  "kernelspec": {
   "display_name": "Python 3 (ipykernel)",
   "language": "python",
   "name": "python3"
  },
  "language_info": {
   "codemirror_mode": {
    "name": "ipython",
    "version": 3
   },
   "file_extension": ".py",
   "mimetype": "text/x-python",
   "name": "python",
   "nbconvert_exporter": "python",
   "pygments_lexer": "ipython3",
   "version": "3.9.7"
  }
 },
 "nbformat": 4,
 "nbformat_minor": 5
}
